{
 "cells": [
  {
   "cell_type": "markdown",
   "metadata": {
    "id": "XoT2XjqemTlA"
   },
   "source": [
    "Reproduce the dataset:\n",
    "\n",
    "**Legit**: domain -> screenshots\n",
    "\n",
    "**Phishing**: domain -> screenshots (same as above for our purposes)\n",
    "\n",
    "**New Phishing**: domain -> different resolution screenshots -> prove that diff resolution will cause performance drop"
   ]
  },
  {
   "cell_type": "code",
   "execution_count": null,
   "metadata": {
    "colab": {
     "base_uri": "https://localhost:8080/"
    },
    "id": "Jjkzw-S82DKo",
    "outputId": "24e1d9be-1924-4db9-fd0e-9787992d6104"
   },
   "outputs": [],
   "source": [
    "#!pip install selenium\n",
    "#!apt install chromium-chromedriver\n",
    "#print(\"---------- done ----------\")"
   ]
  },
  {
   "cell_type": "markdown",
   "metadata": {
    "id": "0po9aXeeBWAu"
   },
   "source": [
    "Utility for resize image if not using standard resolution"
   ]
  },
  {
   "cell_type": "code",
   "execution_count": null,
   "metadata": {
    "id": "rLpYOoZhADYX"
   },
   "outputs": [],
   "source": [
    "from PIL import Image  \n",
    "\n",
    "def resize_img(src_fn):\n",
    "    # Opens a image in RGB mode  \n",
    "    im = Image.open(src_fn) \n",
    "\n",
    "    #print(\"original size:{}\".format(im.size))\n",
    "    newsize = (1024, 768)\n",
    "    im1 = im.resize(newsize)\n",
    "    #print(\"new size:{}\".format(im1.size))\n",
    "    im1.save(src_fn)\n"
   ]
  },
  {
   "cell_type": "markdown",
   "metadata": {
    "id": "Xnfb0Zmp6i1_"
   },
   "source": [
    "Read top 50 domains"
   ]
  },
  {
   "cell_type": "code",
   "execution_count": null,
   "metadata": {
    "colab": {
     "base_uri": "https://localhost:8080/"
    },
    "id": "LTC-C6Wv6h4B",
    "outputId": "0769711d-7e20-4a54-f6f8-5f1083cc6142",
    "scrolled": false
   },
   "outputs": [],
   "source": [
    "\n",
    "urlbydomain = {}\n",
    "counter=0\n",
    "with open('url_log.csv',encoding=\"utf-8\") as fp1:\n",
    "    \n",
    "    for row in fp1:\n",
    "        idx=row.find(\",\")\n",
    "        \n",
    "        if(idx==-1):\n",
    "            #print(row)\n",
    "            continue\n",
    "        #print(row)\n",
    "        counter+=1\n",
    "        label=row[:idx]\n",
    "        url=row[idx+1:].strip().strip(\"\\n\")\n",
    "        #print(\"{}-->{}\".format(label,url))\n",
    "        if(label not in urlbydomain):\n",
    "            urlbydomain[label]=[]\n",
    "        urlbydomain[label].append(url)\n",
    "            \n",
    "        \n",
    "#print(len(urlbydomain[\"youtube.com\"]))\n",
    "for label in urlbydomain:\n",
    "    urllist = urlbydomain[label]\n",
    "    if(len(urllist)<100):\n",
    "        #print(label)\n",
    "        continue\n",
    "print(counter)"
   ]
  },
  {
   "cell_type": "code",
   "execution_count": null,
   "metadata": {
    "colab": {
     "base_uri": "https://localhost:8080/"
    },
    "id": "jQewkol_ImZq",
    "outputId": "8d509bcf-7ac0-4428-f814-7daaebb072fd"
   },
   "outputs": [],
   "source": [
    "#dummy cell to exec shell command\n",
    "\n",
    "#!rm -rf /content/dataset_new_phishing_noresize/*\n",
    "# !find dataset_new_phishing_noresize/ -name *.png | wc -l"
   ]
  },
  {
   "cell_type": "code",
   "execution_count": null,
   "metadata": {},
   "outputs": [],
   "source": [
    "from selenium import webdriver\n",
    "import bs4\n",
    "import os\n",
    "import random\n",
    "import hashlib\n",
    "\n",
    "o = webdriver.ChromeOptions()\n",
    "o.add_argument(\"--headless\")\n",
    "o.add_argument(\"--no-sandbox\")\n",
    "o.add_argument(\"--disable-dev-shm-usage\")\n",
    "#o.add_argument(\"user-agent=Mozilla/5.0 (iPhone; CPU iPhone OS 14_3 like Mac OS X) AppleWebKit/605.1.15 (KHTML, like Gecko) Mobile/15E148 Safari 604.1\")\n",
    "driver = webdriver.Chrome('chromedriver',options=o)\n",
    "driver.set_window_position(0, 0)\n",
    "w=1366\n",
    "h=768\n",
    "driver.set_window_size(w, h)\n",
    "dataset_name = \"dataset_new_phishing_{}_{}_unseen\".format(w,h)\n",
    "\n",
    "agent = driver.execute_script(\"return navigator.userAgent\")\n",
    "print(agent)"
   ]
  },
  {
   "cell_type": "code",
   "execution_count": null,
   "metadata": {
    "colab": {
     "base_uri": "https://localhost:8080/"
    },
    "id": "d8kTZUVf2Itt",
    "outputId": "3137d6d0-9eda-4aff-db2f-17a56c6d7b53"
   },
   "outputs": [],
   "source": [
    "\n",
    "\n",
    "\n",
    "\n",
    "\n",
    "#crawl the domain, then find k sub link, collect those screenshots\n",
    "random.seed(128)\n",
    "\n",
    "started=True\n",
    "if(os.path.exists(dataset_name) == False):\n",
    "        os.mkdir(dataset_name)\n",
    "for label in urlbydomain:\n",
    "    # if(label==\"gravatar.com\"):    #for continued search\n",
    "    #     started=True\n",
    "    # if(started==False):\n",
    "    #     continue\n",
    "    urllist = list(urlbydomain[label])\n",
    "    if(label in [\"qq.com\"]):#too slow,skip\n",
    "        continue\n",
    "    if(len(urllist)<100):\n",
    "        #print(label)\n",
    "        continue\n",
    "    print(\"label:{}\".format(label))\n",
    "    #continue\n",
    "    \n",
    "    \n",
    "    \n",
    "    random.shuffle(urllist) #shuffle it (but with a fixed random seed)\n",
    "    urllist[0]=\"https://{}\".format(label)#make sure mother included\n",
    "    basepath=os.path.join(dataset_name,label)\n",
    "    counter=0\n",
    "    for url in urllist:\n",
    "\n",
    "        try:\n",
    "            driver.get(url)\n",
    "        \n",
    "            \n",
    "            if(counter>50):#crawl first 100\n",
    "                break\n",
    "            if(os.path.exists(basepath) == False):\n",
    "                os.mkdir(basepath)\n",
    "            #print(\"{}:{}\".format(counter,url))\n",
    "            fn = hash_object = hashlib.md5(url.encode()).hexdigest()[:10]\n",
    "            filepath = os.path.join(basepath,fn+\".png\")\n",
    "            #print(path)\n",
    "            driver.save_screenshot(filepath)\n",
    "            #resize_img(filepath)\n",
    "            counter+=1\n",
    "        except Exception as e:\n",
    "            print(e)\n",
    "            continue\n",
    "    print(\"domain {} done\".format(label))\n",
    "print(\"all done.\")\n",
    "    #now saved all domains\n"
   ]
  },
  {
   "cell_type": "code",
   "execution_count": null,
   "metadata": {
    "id": "fQgL-CgQ8LFm"
   },
   "outputs": [],
   "source": [
    "#compress everything for download\n",
    "#!rm /content/dataset_benign.tar.gz\n",
    "#!tar -czf dataset_benign.tar.gz dataset/\n",
    "#!rm /content/dataset_phishing.tar.gz\n",
    "#!tar -czf dataset_new_phishing_noresize.tar.gz dataset_new_phishing_noresize/"
   ]
  }
 ],
 "metadata": {
  "colab": {
   "collapsed_sections": [],
   "name": "crawl_websites.ipynb",
   "provenance": []
  },
  "kernelspec": {
   "display_name": "Python 3",
   "language": "python",
   "name": "python3"
  },
  "language_info": {
   "codemirror_mode": {
    "name": "ipython",
    "version": 3
   },
   "file_extension": ".py",
   "mimetype": "text/x-python",
   "name": "python",
   "nbconvert_exporter": "python",
   "pygments_lexer": "ipython3",
   "version": "3.6.5"
  }
 },
 "nbformat": 4,
 "nbformat_minor": 1
}
